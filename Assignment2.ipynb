{
  "nbformat": 4,
  "nbformat_minor": 0,
  "metadata": {
    "colab": {
      "name": "Assignment2.ipynb",
      "provenance": [],
      "collapsed_sections": [],
      "authorship_tag": "ABX9TyMhRnWV+Bq0Naz4SI5EEnQr",
      "include_colab_link": true
    },
    "kernelspec": {
      "name": "python3",
      "display_name": "Python 3"
    },
    "accelerator": "GPU"
  },
  "cells": [
    {
      "cell_type": "markdown",
      "metadata": {
        "id": "view-in-github",
        "colab_type": "text"
      },
      "source": [
        "<a href=\"https://colab.research.google.com/github/lpxgis/CV_EXP/blob/master/Assignment2.ipynb\" target=\"_parent\"><img src=\"https://colab.research.google.com/assets/colab-badge.svg\" alt=\"Open In Colab\"/></a>"
      ]
    },
    {
      "cell_type": "markdown",
      "metadata": {
        "id": "JELGJZZO_vVM"
      },
      "source": [
        "\n",
        "\n",
        "# 旋转"
      ]
    },
    {
      "cell_type": "code",
      "metadata": {
        "id": "n15NN26f0RTj"
      },
      "source": [
        "import numpy as np\n",
        "import matplotlib.pyplot as plt\n",
        "import skimage.data\n",
        "import skimage.io\n",
        "##旋转角度\n",
        "angle = 35*np.pi/180\n",
        "##\n",
        "img = skimage.data.chelsea().astype(int)\n",
        "# 设置新的图像大小\n",
        "h,w = img.shape[0],img.shape[1]\n",
        "newW = int(w*abs(np.cos(angle)) + h*abs(np.sin(angle)))+1\n",
        "newH = int(w*abs(np.sin(angle)) + h*abs(np.cos(angle)))+1\n",
        "####\n",
        "newimg1 = np.zeros((newH,newW,3),dtype = int)\n",
        "newimg2 =  np.zeros((newH,newW,3),dtype = int)\n",
        "# 设置旋转矩阵\n",
        "trans1 = np.array([[1,0,0],[0,-1,0],[-0.5*w,0.5*h,1]])\n",
        "trans1 = trans1.dot(np.array([[np.cos(angle),-np.sin(angle),0],[np.sin(angle),np.cos(angle),0],[0,0,1]]))\n",
        "trans1 = trans1.dot(np.array([[1,0,0],[0,-1,0],[0.5*newW,0.5*newH,1]]))\n",
        "\n",
        "trans2 = np.array([[1,0,0],[0,-1,0],[-0.5*newW,0.5*newH,1]])\n",
        "trans2 = trans2.dot(np.array([[np.cos(angle),np.sin(angle),0],[-np.sin(angle),np.cos(angle),0],[0,0,1]]))\n",
        "trans2 = trans2.dot(np.array([[1,0,0],[0,-1,0],[0.5*w,0.5*h,1]]))\n",
        "# 开始旋转\n",
        "for x in range(w):\n",
        "    for y in range(h):\n",
        "        newPos = np.array([x,y,1]).dot(trans1)\n",
        "        newimg1[int(newPos[1])][int(newPos[0])] = img[y][x]\n",
        "\n",
        "for x in range(newW):\n",
        "    for y in range(newH):\n",
        "        srcPos = np.array([x,y,1]).dot(trans2)\n",
        "        if srcPos[0] >= 0 and srcPos[0] < w and srcPos[1] >= 0 and srcPos[1] < h:\n",
        "            #双线性内插\n",
        "            bix,biy = int(srcPos[0]),int(srcPos[1]) # 取左上角坐标\n",
        "            #避免最后一行溢出\n",
        "            if bix < w-1 and biy < h-1:\n",
        "                #X\n",
        "                rgbX1 = img[biy][bix] + (img[biy][bix+1] - img[biy][bix])*(srcPos[0]-bix)\n",
        "                rgbX2 = img[biy+1][bix] + (img[biy+1][bix+1] - img[biy+1][bix])*(srcPos[0]-bix)\n",
        "                #Y\n",
        "                rgb = rgbX1 + (rgbX2-rgbX1)*(srcPos[1]-biy)\n",
        "                newimg2[y][x] = rgb\n",
        "# 绘图\n",
        "plt.figure(figsize=(16,12))\n",
        "sub = plt.subplot(1,3,1)\n",
        "sub.set_title(\"Src Image\")\n",
        "plt.imshow(img)\n",
        "sub = plt.subplot(1,3,2)\n",
        "sub.set_title(\"Src->Dest\")\n",
        "plt.imshow(newimg1)\n",
        "sub = plt.subplot(1,3,3)\n",
        "sub.set_title(\"Dest->Src Bilinear\")\n",
        "plt.imshow(newimg2)\n",
        "plt.show()"
      ],
      "execution_count": null,
      "outputs": []
    },
    {
      "cell_type": "markdown",
      "metadata": {
        "id": "jDHVdNff_7xI"
      },
      "source": [
        "# 平移"
      ]
    },
    {
      "cell_type": "code",
      "metadata": {
        "id": "kLXWB6AXs_50"
      },
      "source": [
        "#init\n",
        "img = skimage.data.chelsea().astype(int)\n",
        "h,w = img.shape[0],img.shape[1]\n",
        "delta_x=14\n",
        "delta_y=20\n",
        "newW = w+delta_x\n",
        "newH = h+delta_y\n",
        "newimg1 = np.zeros((newH,newW,3),dtype = int)\n",
        "\n",
        "for x in range(w):\n",
        "  for y in range(h):\n",
        "    newimg1[y+delta_y][x+delta_x] = img[y][x]\n",
        "sub = plt.subplot(1,2,1)\n",
        "sub.set_title(\"Src Image\")\n",
        "plt.imshow(img)\n",
        "sub = plt.subplot(1,2,2)\n",
        "sub.set_title(\"Src->Des\")\n",
        "plt.imshow(newimg1)\n",
        "plt.show()"
      ],
      "execution_count": null,
      "outputs": []
    },
    {
      "cell_type": "markdown",
      "metadata": {
        "id": "kGCbX0syABv6"
      },
      "source": [
        "# 缩放"
      ]
    },
    {
      "cell_type": "code",
      "metadata": {
        "id": "KlCQT0EkvTNx"
      },
      "source": [
        "#init\n",
        "img = skimage.data.chelsea().astype(int)\n",
        "h,w = img.shape[0],img.shape[1]\n",
        "factor_x=0.5\n",
        "factor_y=0.8\n",
        "transform=np.array([[factor_x,0,0],[0,factor_y,0],[0,0,1]])\n",
        "newW = w\n",
        "newH = h\n",
        "newimg1 = np.zeros((newH,newW,3),dtype = int)\n",
        "for x in range(newW):\n",
        "    for y in range(newH):\n",
        "        srcPos = transform.dot(np.array([x,y,1]))\n",
        "        if srcPos[0] >= 0 and srcPos[0] < w and srcPos[1] >= 0 and srcPos[1] < h:\n",
        "            #双线性内插\n",
        "            bix,biy = int(srcPos[0]),int(srcPos[1]) # 取左上角坐标\n",
        "            #避免最后一行溢出\n",
        "            if bix < w-1 and biy < h-1:\n",
        "                #X\n",
        "                rgbX1 = img[biy][bix] + (img[biy][bix+1] - img[biy][bix])*(srcPos[0]-bix)\n",
        "                rgbX2 = img[biy+1][bix] + (img[biy+1][bix+1] - img[biy+1][bix])*(srcPos[0]-bix)\n",
        "                #Y\n",
        "                rgb = rgbX1 + (rgbX2-rgbX1)*(srcPos[1]-biy)\n",
        "                newimg1[y][x] = rgb\n",
        "sub = plt.subplot(1,2,1)\n",
        "sub.set_title(\"Src Image\")\n",
        "plt.imshow(img)\n",
        "sub = plt.subplot(1,2,2)\n",
        "sub.set_title(\"Src->Des\")\n",
        "plt.imshow(newimg1)\n",
        "plt.show()"
      ],
      "execution_count": null,
      "outputs": []
    },
    {
      "cell_type": "markdown",
      "metadata": {
        "id": "cTSO5t39AJpV"
      },
      "source": [
        "# 镜像\n",
        "基于pytorch的图像增强操作"
      ]
    },
    {
      "cell_type": "code",
      "metadata": {
        "id": "PrDBdivB_6xN"
      },
      "source": [
        "from torchvision import transforms\n",
        "from PIL import Image\n",
        "import torch\n",
        "path='/content/CF595D13-B56B-499F-993F-DB2FA16A2A14.jpeg'#测试图片路径\n",
        "img = Image.open(path)\n",
        "transform = transforms.Compose([\n",
        "    transforms.RandomHorizontalFlip(p=1),\n",
        "    transforms.RandomVerticalFlip(p=0)\n",
        "])\n",
        "new_img = transform(img)\n",
        "plt.imshow(new_img)"
      ],
      "execution_count": null,
      "outputs": []
    },
    {
      "cell_type": "markdown",
      "metadata": {
        "id": "bg5v2nmvBLJk"
      },
      "source": [
        "# 错切"
      ]
    },
    {
      "cell_type": "code",
      "metadata": {
        "id": "doaQ-8BGBg7Q"
      },
      "source": [
        "from PIL import Image\n",
        "from torchvision.transforms import RandomAffine\n",
        "\n",
        "image = Image.open('/content/CF595D13-B56B-499F-993F-DB2FA16A2A14.jpeg')\n",
        "random_affine = RandomAffine(\n",
        "    degrees=0, \n",
        "    translate=(0, 0), \n",
        "    scale=None,\n",
        "    shear=(10,12),  # 设置错切角度，有水平错切和垂直错切，若为 a，则仅在 x 轴错切，错切角度在 (-a, a)；\n",
        "                 # 若为 (a, b)，则 a 设置 x 轴角度，b 设置 y 轴角度；\n",
        "                 # 若为 (a, b, c, d)，则 x 轴角度为 (a, b)，y 轴角度为 (c, d)\n",
        "    resample=False,\n",
        "    fillcolor=0\n",
        ")\n",
        "\n",
        "plt.imshow(random_affine(image))\n"
      ],
      "execution_count": null,
      "outputs": []
    }
  ]
}